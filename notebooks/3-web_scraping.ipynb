{
 "cells": [
  {
   "cell_type": "markdown",
   "metadata": {},
   "source": [
    "# Web Scraping 📡\n",
    "\n",
    "[timeanddate.com](https://www.timeanddate.com/holidays/us/) tracks a much more diverse collection of holidays that the Public Holidays API. \n",
    "\n",
    "## Your Task\n",
    "\n",
    "Using the url for the linked website above, create a function called `timeanddate` that returns the table of holiday data for a given year. This function should have one argument: `year`.\n",
    "\n",
    "The output dataframe should have three columns\n",
    "1. date\n",
    "    - datatype: `datetime64[ns]`\n",
    "2. holiday_name\n",
    "    - datatype: `object`\n",
    "3. type\n",
    "    - datatype: `object`\n",
    "\n",
    "*Hint: Take note how to the url changes when you select different years!*\n",
    "\n",
    "\n",
    "Import the `stocks` function from the `src/` folder, and merge the holidays data with 2017 stocks.\n",
    "\n",
    "Produce a bar chart showing the count for each holiday type. \n",
    "\n",
    "Please complete the assigned tasks below:"
   ]
  }
 ],
 "metadata": {
  "kernelspec": {
   "display_name": "Python 3",
   "language": "python",
   "name": "python3"
  },
  "language_info": {
   "codemirror_mode": {
    "name": "ipython",
    "version": 3
   },
   "file_extension": ".py",
   "mimetype": "text/x-python",
   "name": "python",
   "nbconvert_exporter": "python",
   "pygments_lexer": "ipython3",
   "version": "3.7.7"
  },
  "toc": {
   "base_numbering": 1,
   "nav_menu": {},
   "number_sections": false,
   "sideBar": true,
   "skip_h1_title": true,
   "title_cell": "Table of Contents",
   "title_sidebar": "Contents",
   "toc_cell": false,
   "toc_position": {},
   "toc_section_display": true,
   "toc_window_display": false
  },
  "varInspector": {
   "cols": {
    "lenName": 16,
    "lenType": 16,
    "lenVar": 40
   },
   "kernels_config": {
    "python": {
     "delete_cmd_postfix": "",
     "delete_cmd_prefix": "del ",
     "library": "var_list.py",
     "varRefreshCmd": "print(var_dic_list())"
    },
    "r": {
     "delete_cmd_postfix": ") ",
     "delete_cmd_prefix": "rm(",
     "library": "var_list.r",
     "varRefreshCmd": "cat(var_dic_list()) "
    }
   },
   "types_to_exclude": [
    "module",
    "function",
    "builtin_function_or_method",
    "instance",
    "_Feature"
   ],
   "window_display": false
  }
 },
 "nbformat": 4,
 "nbformat_minor": 4
}
