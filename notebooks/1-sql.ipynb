{
 "cells": [
  {
   "cell_type": "markdown",
   "metadata": {},
   "source": [
    "# SQL 📚"
   ]
  },
  {
   "cell_type": "markdown",
   "metadata": {},
   "source": [
    "## Your Tasks:\n",
    "\n",
    "**Please deliver the following:** \n",
    "\n",
    "1. A function named `stocks` that returns a dataframe of all stock prices for a given year. This function should have one argument: `year`.\n",
    "    - Drop all null values from this dataframe. \n",
    "    - Use this function to create a dataframe of 2017 stock prices.\n",
    "    \n",
    "2. Please create a file named `data_collection.py` within the `src` folder containing this function. \n",
    "3. Create a function called `begins_with_count`\n",
    "    - This function should receive a letter and return the number of companies that begin with the given letter.\n",
    "4. Create a histogram visualizing the distribution of these counts for every letter in the alphabet.\n",
    "5. Interpret the histogram.\n",
    "\n",
    "### How do I do this?\n",
    "\n",
    "You have been given a database called `stocks.db` within the [data/](data/) folder of this repo. \n",
    "- This database contains the opening and closing prices for the S&P 500 from 2013-2018.\n",
    "\n",
    "You will need to open up a connection to this database, construct an approproate SQL query, and move this code into a `stocks` function. Other than pulling the data from the database, how much SQL and how much pandas you use will be up to you. "
   ]
  },
  {
   "cell_type": "markdown",
   "metadata": {},
   "source": [
    "<center><h3>DATABASE SCHEMA</h3></center>\n",
    "\n",
    "<img src=\"../static/db_schema.png\" width=500 height=500>"
   ]
  },
  {
   "cell_type": "markdown",
   "metadata": {},
   "source": [
    "Please complete the assigned task below:"
   ]
  },
  {
   "cell_type": "code",
   "execution_count": null,
   "metadata": {},
   "outputs": [],
   "source": []
  }
 ],
 "metadata": {
  "kernelspec": {
   "display_name": "Python 3",
   "language": "python",
   "name": "python3"
  },
  "language_info": {
   "codemirror_mode": {
    "name": "ipython",
    "version": 3
   },
   "file_extension": ".py",
   "mimetype": "text/x-python",
   "name": "python",
   "nbconvert_exporter": "python",
   "pygments_lexer": "ipython3",
   "version": "3.7.7"
  },
  "toc": {
   "base_numbering": 1,
   "nav_menu": {},
   "number_sections": false,
   "sideBar": true,
   "skip_h1_title": true,
   "title_cell": "Table of Contents",
   "title_sidebar": "Contents",
   "toc_cell": false,
   "toc_position": {},
   "toc_section_display": true,
   "toc_window_display": false
  },
  "varInspector": {
   "cols": {
    "lenName": 16,
    "lenType": 16,
    "lenVar": 40
   },
   "kernels_config": {
    "python": {
     "delete_cmd_postfix": "",
     "delete_cmd_prefix": "del ",
     "library": "var_list.py",
     "varRefreshCmd": "print(var_dic_list())"
    },
    "r": {
     "delete_cmd_postfix": ") ",
     "delete_cmd_prefix": "rm(",
     "library": "var_list.r",
     "varRefreshCmd": "cat(var_dic_list()) "
    }
   },
   "types_to_exclude": [
    "module",
    "function",
    "builtin_function_or_method",
    "instance",
    "_Feature"
   ],
   "window_display": false
  }
 },
 "nbformat": 4,
 "nbformat_minor": 4
}
